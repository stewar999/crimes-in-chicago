{
 "cells": [
  {
   "cell_type": "code",
   "execution_count": 1,
   "id": "affda3fe-6df6-4beb-810f-25ba319052b3",
   "metadata": {},
   "outputs": [
    {
     "name": "stdout",
     "output_type": "stream",
     "text": [
      "Requirement already satisfied: opendatasets in c:\\users\\programmer\\appdata\\local\\programs\\python\\python312\\lib\\site-packages (0.1.22)\n",
      "Requirement already satisfied: tqdm in c:\\users\\programmer\\appdata\\local\\programs\\python\\python312\\lib\\site-packages (from opendatasets) (4.66.2)\n",
      "Requirement already satisfied: kaggle in c:\\users\\programmer\\appdata\\local\\programs\\python\\python312\\lib\\site-packages (from opendatasets) (1.6.12)\n",
      "Requirement already satisfied: click in c:\\users\\programmer\\appdata\\local\\programs\\python\\python312\\lib\\site-packages (from opendatasets) (8.1.7)\n",
      "Requirement already satisfied: colorama in c:\\users\\programmer\\appdata\\local\\programs\\python\\python312\\lib\\site-packages (from click->opendatasets) (0.4.6)\n",
      "Requirement already satisfied: six>=1.10 in c:\\users\\programmer\\appdata\\local\\programs\\python\\python312\\lib\\site-packages (from kaggle->opendatasets) (1.16.0)\n",
      "Requirement already satisfied: certifi>=2023.7.22 in c:\\users\\programmer\\appdata\\local\\programs\\python\\python312\\lib\\site-packages (from kaggle->opendatasets) (2023.11.17)\n",
      "Requirement already satisfied: python-dateutil in c:\\users\\programmer\\appdata\\local\\programs\\python\\python312\\lib\\site-packages (from kaggle->opendatasets) (2.8.2)\n",
      "Requirement already satisfied: requests in c:\\users\\programmer\\appdata\\local\\programs\\python\\python312\\lib\\site-packages (from kaggle->opendatasets) (2.31.0)\n",
      "Requirement already satisfied: python-slugify in c:\\users\\programmer\\appdata\\local\\programs\\python\\python312\\lib\\site-packages (from kaggle->opendatasets) (8.0.4)\n",
      "Requirement already satisfied: urllib3 in c:\\users\\programmer\\appdata\\local\\programs\\python\\python312\\lib\\site-packages (from kaggle->opendatasets) (2.1.0)\n",
      "Requirement already satisfied: bleach in c:\\users\\programmer\\appdata\\local\\programs\\python\\python312\\lib\\site-packages (from kaggle->opendatasets) (6.1.0)\n",
      "Requirement already satisfied: webencodings in c:\\users\\programmer\\appdata\\local\\programs\\python\\python312\\lib\\site-packages (from bleach->kaggle->opendatasets) (0.5.1)\n",
      "Requirement already satisfied: text-unidecode>=1.3 in c:\\users\\programmer\\appdata\\local\\programs\\python\\python312\\lib\\site-packages (from python-slugify->kaggle->opendatasets) (1.3)\n",
      "Requirement already satisfied: charset-normalizer<4,>=2 in c:\\users\\programmer\\appdata\\local\\programs\\python\\python312\\lib\\site-packages (from requests->kaggle->opendatasets) (3.3.2)\n",
      "Requirement already satisfied: idna<4,>=2.5 in c:\\users\\programmer\\appdata\\local\\programs\\python\\python312\\lib\\site-packages (from requests->kaggle->opendatasets) (3.6)\n"
     ]
    },
    {
     "name": "stderr",
     "output_type": "stream",
     "text": [
      "\n",
      "[notice] A new release of pip is available: 23.2.1 -> 24.0\n",
      "[notice] To update, run: python.exe -m pip install --upgrade pip\n"
     ]
    }
   ],
   "source": [
    "!pip install opendatasets"
   ]
  },
  {
   "cell_type": "code",
   "execution_count": 2,
   "id": "9459f3f4-58ca-40fe-b818-0fe648cc3fb0",
   "metadata": {},
   "outputs": [],
   "source": [
    "import opendatasets as od"
   ]
  },
  {
   "cell_type": "code",
   "execution_count": 3,
   "id": "59a92214-7454-4ee9-adec-54de32b45a9a",
   "metadata": {},
   "outputs": [],
   "source": [
    "dataset = \"https://www.kaggle.com/datasets/currie32/crimes-in-chicago?select=Chicago_Crimes_2012_to_2017.csv\""
   ]
  },
  {
   "cell_type": "code",
   "execution_count": 4,
   "id": "d8f4f6a8-a703-4f15-b908-23f89c413038",
   "metadata": {},
   "outputs": [
    {
     "name": "stdout",
     "output_type": "stream",
     "text": [
      "Skipping, found downloaded files in \".\\crimes-in-chicago\" (use force=True to force download)\n"
     ]
    }
   ],
   "source": [
    "od.download(dataset, force=False)"
   ]
  },
  {
   "cell_type": "code",
   "execution_count": 5,
   "id": "6aa02e92-bb90-4f90-bc2c-e5aa4d929118",
   "metadata": {},
   "outputs": [],
   "source": [
    "import os"
   ]
  },
  {
   "cell_type": "code",
   "execution_count": 6,
   "id": "0b9498ee-731e-4b71-a46d-4f4c5fee6a68",
   "metadata": {},
   "outputs": [],
   "source": [
    "data_dir = '.\\\\crimes-in-chicago'"
   ]
  },
  {
   "cell_type": "code",
   "execution_count": 7,
   "id": "08c9085c-857e-4e27-ae2f-855bc7189266",
   "metadata": {},
   "outputs": [
    {
     "data": {
      "text/plain": [
       "['Chicago_Crimes_2001_to_2004.csv',\n",
       " 'Chicago_Crimes_2005_to_2007.csv',\n",
       " 'Chicago_Crimes_2008_to_2011.csv',\n",
       " 'Chicago_Crimes_2012_to_2017.csv']"
      ]
     },
     "execution_count": 7,
     "metadata": {},
     "output_type": "execute_result"
    }
   ],
   "source": [
    "os.listdir(data_dir)"
   ]
  },
  {
   "cell_type": "code",
   "execution_count": 8,
   "id": "884dbf00-ddde-4a53-aad7-6a09da88f9f3",
   "metadata": {},
   "outputs": [],
   "source": [
    "import pandas as pd "
   ]
  },
  {
   "cell_type": "code",
   "execution_count": 9,
   "id": "e882c381-64a4-4330-8de3-9d1b2380cf4f",
   "metadata": {},
   "outputs": [],
   "source": [
    "df = pd.read_csv('crimes-in-chicago/Chicago_Crimes_2012_to_2017.csv')"
   ]
  },
  {
   "cell_type": "code",
   "execution_count": 10,
   "id": "2dbedda0-72fd-432b-a13a-f3cc4c4901ad",
   "metadata": {},
   "outputs": [],
   "source": [
    "df = df.dropna()"
   ]
  },
  {
   "cell_type": "code",
   "execution_count": 11,
   "id": "c945086a-eb3b-459f-9f07-492ada4a6ddb",
   "metadata": {},
   "outputs": [
    {
     "name": "stdout",
     "output_type": "stream",
     "text": [
      "Dataset size (rows, columns): (1418365, 23)\n",
      "Number of columns: 23\n"
     ]
    }
   ],
   "source": [
    "dataset_size = df.shape\n",
    "num_columns = df.shape[1]\n",
    "print(\"Dataset size (rows, columns):\", dataset_size)\n",
    "print(\"Number of columns:\", num_columns)"
   ]
  },
  {
   "cell_type": "code",
   "execution_count": 12,
   "id": "929fdee3-ed9e-4959-a7c6-33c095b0943a",
   "metadata": {},
   "outputs": [
    {
     "name": "stdout",
     "output_type": "stream",
     "text": [
      "Unnamed: 0              0\n",
      "ID                      0\n",
      "Case Number             0\n",
      "Date                    0\n",
      "Block                   0\n",
      "IUCR                    0\n",
      "Primary Type            0\n",
      "Description             0\n",
      "Location Description    0\n",
      "Arrest                  0\n",
      "Domestic                0\n",
      "Beat                    0\n",
      "District                0\n",
      "Ward                    0\n",
      "Community Area          0\n",
      "FBI Code                0\n",
      "X Coordinate            0\n",
      "Y Coordinate            0\n",
      "Year                    0\n",
      "Updated On              0\n",
      "Latitude                0\n",
      "Longitude               0\n",
      "Location                0\n",
      "dtype: int64\n"
     ]
    }
   ],
   "source": [
    "null_values = df.isnull().sum()\n",
    "print(null_values)"
   ]
  },
  {
   "cell_type": "code",
   "execution_count": 13,
   "id": "68ed19e3-d70c-4d0e-85e5-6cb455fc4bfa",
   "metadata": {},
   "outputs": [
    {
     "name": "stdout",
     "output_type": "stream",
     "text": [
      "Data types of each column:\n",
      "Unnamed: 0                int64\n",
      "ID                        int64\n",
      "Case Number              object\n",
      "Date                     object\n",
      "Block                    object\n",
      "IUCR                     object\n",
      "Primary Type             object\n",
      "Description              object\n",
      "Location Description     object\n",
      "Arrest                     bool\n",
      "Domestic                   bool\n",
      "Beat                      int64\n",
      "District                float64\n",
      "Ward                    float64\n",
      "Community Area          float64\n",
      "FBI Code                 object\n",
      "X Coordinate            float64\n",
      "Y Coordinate            float64\n",
      "Year                      int64\n",
      "Updated On               object\n",
      "Latitude                float64\n",
      "Longitude               float64\n",
      "Location                 object\n",
      "dtype: object\n"
     ]
    }
   ],
   "source": [
    "data_types = df.dtypes\n",
    "print(\"Data types of each column:\")\n",
    "print(data_types)"
   ]
  },
  {
   "cell_type": "code",
   "execution_count": 14,
   "id": "9f82b4fa-cc99-439c-b798-ba21628df2e1",
   "metadata": {},
   "outputs": [
    {
     "name": "stdout",
     "output_type": "stream",
     "text": [
      "Dataset size (rows, columns): (100000, 23)\n",
      "Number of columns: 23\n"
     ]
    }
   ],
   "source": [
    "def get_last_n_observations(df, n=100000):\n",
    "    return df.tail(n)\n",
    "df = get_last_n_observations(df, 100000)\n",
    "dataset_size = df.shape\n",
    "num_columns = df.shape[1]\n",
    "print(\"Dataset size (rows, columns):\", dataset_size)\n",
    "print(\"Number of columns:\", num_columns)"
   ]
  },
  {
   "cell_type": "code",
   "execution_count": 15,
   "id": "de196848-554b-4731-98f3-1bbedf5ee46b",
   "metadata": {},
   "outputs": [
    {
     "name": "stdout",
     "output_type": "stream",
     "text": [
      "Note: you may need to restart the kernel to use updated packages.Requirement already satisfied: neo4j in c:\\users\\programmer\\appdata\\local\\programs\\python\\python312\\lib\\site-packages (5.20.0)\n",
      "Requirement already satisfied: pytz in c:\\users\\programmer\\appdata\\local\\programs\\python\\python312\\lib\\site-packages (from neo4j) (2023.3.post1)\n",
      "\n"
     ]
    },
    {
     "name": "stderr",
     "output_type": "stream",
     "text": [
      "\n",
      "[notice] A new release of pip is available: 23.2.1 -> 24.0\n",
      "[notice] To update, run: python.exe -m pip install --upgrade pip\n"
     ]
    }
   ],
   "source": [
    "pip install neo4j"
   ]
  },
  {
   "cell_type": "code",
   "execution_count": 16,
   "id": "bf786a0d-d60e-4530-ba09-f8fa33dd0acb",
   "metadata": {},
   "outputs": [],
   "source": [
    "from neo4j import GraphDatabase"
   ]
  },
  {
   "cell_type": "code",
   "execution_count": null,
   "id": "81cfba41-7fe9-4e77-b5f7-125f8249db03",
   "metadata": {},
   "outputs": [],
   "source": [
    "def connect_to_neo4j(uri, user, password):\n",
    "    return GraphDatabase.driver(uri, auth=(user, password))\n",
    "def load_data_to_neo4j(driver, df):\n",
    "    with driver.session() as session:\n",
    "        for index, row in df.iterrows():\n",
    "            parameters = {\n",
    "                \"ID\": row[\"ID\"],\n",
    "                \"Case_Number\": row[\"Case Number\"],\n",
    "                \"Date\": row[\"Date\"],\n",
    "                \"Block\": row[\"Block\"],\n",
    "                \"IUCR\": row[\"IUCR\"],\n",
    "                \"Primary_Type\": row[\"Primary Type\"],\n",
    "                \"Description\": row[\"Description\"],\n",
    "                \"Location_Description\": row[\"Location Description\"],\n",
    "                \"Arrest\": str(row[\"Arrest\"]),\n",
    "                \"Domestic\": str(row[\"Domestic\"]),\n",
    "                \"Beat\": row[\"Beat\"],\n",
    "                \"District\": row[\"District\"],\n",
    "                \"Ward\": row[\"Ward\"],\n",
    "                \"Community_Area\": row[\"Community Area\"],\n",
    "                \"FBI_Code\": row[\"FBI Code\"],\n",
    "                \"X_Coordinate\": row[\"X Coordinate\"],\n",
    "                \"Y_Coordinate\": row[\"Y Coordinate\"],\n",
    "                \"Year\": row[\"Year\"],\n",
    "                \"Updated_On\": row[\"Updated On\"],\n",
    "                \"Latitude\": row[\"Latitude\"],\n",
    "                \"Longitude\": row[\"Longitude\"],\n",
    "                \"Location\": row[\"Location\"]\n",
    "            }\n",
    "\n",
    "            session.run(\n",
    "                \"MERGE (crime:Crime {ID: $ID}) \"\n",
    "                \"ON CREATE SET \"\n",
    "                \"crime.Case_Number = $Case_Number, \"\n",
    "                \"crime.Date = $Date, \"\n",
    "                \"crime.Block = $Block, \"\n",
    "                \"crime.IUCR = $IUCR, \"\n",
    "                \"crime.Primary_Type = $Primary_Type, \"\n",
    "                \"crime.Description = $Description, \"\n",
    "                \"crime.Location_Description = $Location_Description, \"\n",
    "                \"crime.Arrest = $Arrest, \"\n",
    "                \"crime.Domestic = $Domestic, \"\n",
    "                \"crime.Beat = $Beat, \"\n",
    "                \"crime.District = $District, \"\n",
    "                \"crime.Ward = $Ward, \"\n",
    "                \"crime.Community_Area = $Community_Area, \"\n",
    "                \"crime.FBI_Code = $FBI_Code, \"\n",
    "                \"crime.X_Coordinate = $X_Coordinate, \"\n",
    "                \"crime.Y_Coordinate = $Y_Coordinate, \"\n",
    "                \"crime.Year = $Year, \"\n",
    "                \"crime.Updated_On = $Updated_On, \"\n",
    "                \"crime.Latitude = $Latitude, \"\n",
    "                \"crime.Longitude = $Longitude, \"\n",
    "                \"crime.Location = $Location\",\n",
    "                parameters\n",
    "            )\n",
    "\n",
    "uri = \"neo4j://localhost:7687\"\n",
    "user = \"neo4j\"\n",
    "password = \"password\"\n",
    "\n",
    "driver = connect_to_neo4j(uri, user, password)\n",
    "load_data_to_neo4j(driver, df)\n",
    "driver.close()"
   ]
  },
  {
   "cell_type": "code",
   "execution_count": null,
   "id": "9e368839-3556-4b1a-9273-f400760ff850",
   "metadata": {},
   "outputs": [],
   "source": []
  }
 ],
 "metadata": {
  "kernelspec": {
   "display_name": "Python 3 (ipykernel)",
   "language": "python",
   "name": "python3"
  },
  "language_info": {
   "codemirror_mode": {
    "name": "ipython",
    "version": 3
   },
   "file_extension": ".py",
   "mimetype": "text/x-python",
   "name": "python",
   "nbconvert_exporter": "python",
   "pygments_lexer": "ipython3",
   "version": "3.12.0"
  }
 },
 "nbformat": 4,
 "nbformat_minor": 5
}
